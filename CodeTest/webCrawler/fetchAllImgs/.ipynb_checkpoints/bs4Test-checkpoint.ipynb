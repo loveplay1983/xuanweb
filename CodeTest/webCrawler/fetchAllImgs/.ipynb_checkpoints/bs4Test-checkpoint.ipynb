{
 "cells": [
  {
   "cell_type": "code",
   "execution_count": 15,
   "id": "a10f4b46",
   "metadata": {},
   "outputs": [],
   "source": [
    "import requests\n",
    "import os\n",
    "from tqdm import tqdm\n",
    "from bs4 import BeautifulSoup as bs\n",
    "from urllib.parse import urljoin, urlparse"
   ]
  },
  {
   "cell_type": "code",
   "execution_count": 16,
   "id": "20f7c278",
   "metadata": {},
   "outputs": [],
   "source": [
    "def is_valid(url):\n",
    "    parsed = urlparse(url)\n",
    "    return bool(parsed.netloc) and bool(parsed.scheme)"
   ]
  },
  {
   "cell_type": "code",
   "execution_count": 17,
   "id": "8a5896fc",
   "metadata": {},
   "outputs": [],
   "source": [
    "def get_all_imgs(url):\n",
    "    soup = bs(requests.get(url).content, \"html.parser\")\n",
    "    urls = []\n",
    "    for img in tqdm(soup.find_all(\"img\"), \"Extracting images\"):\n",
    "        img_url = img.attrs.get(\"src\")\n",
    "        if not img_url:\n",
    "            continue  # skip if img tag contains no src attr\n",
    "        img_url = urljoin(url, img_url)\n",
    "        try:\n",
    "            pos = img_url.index(\"?\")\n",
    "            img_url = img_url[:pos]\n",
    "        except ValueError:\n",
    "            pass\n",
    "        if is_valid(img_url):\n",
    "            urls.append(img_url)\n",
    "    return urls"
   ]
  },
  {
   "cell_type": "code",
   "execution_count": 18,
   "id": "c34535fb",
   "metadata": {},
   "outputs": [],
   "source": [
    "def download(url, pathname):\n",
    "    \"\"\"\n",
    "    Download the file with the given URL, \n",
    "    and puts it in the folder followed by the pathname\n",
    "    \"\"\"\n",
    "    if not os.path.isdir(pathname):\n",
    "        os.makedirs(pathname)\n",
    "        \n",
    "    # Download the body of response by chunk, not immediately\n",
    "    response = requests.get(url, stream=True)\n",
    "    \n",
    "    # Get the total file size\n",
    "    file_size = int(response.headers.get(\"Content-Length\", 0))\n",
    "    \n",
    "    # Get the file name\n",
    "    filename = os.path.join(pathname, url.split(\"/\")[-1])\n",
    "    \n",
    "    # Progress bar, changing the unit to bytes instead of iteration,\n",
    "    # Which is default by tqdm\n",
    "    progress = tqdm(response.iter_content(1024), \\\n",
    "                    f\"Downloading{filename}\", \\\n",
    "                    total=file_size, \\\n",
    "                    unit=\"B\", \\\n",
    "                    unit_scale=True, \\\n",
    "                    unit_divisor=1024)\n",
    "    \n",
    "    with open(filename, \"wb\") as f:\n",
    "        for data in progress.iterable:\n",
    "            f.write(data)\n",
    "            progress.update(len(data))"
   ]
  },
  {
   "cell_type": "code",
   "execution_count": 19,
   "id": "04a1772b",
   "metadata": {},
   "outputs": [],
   "source": [
    "def main(url, path):\n",
    "    imgs = get_all_imgs(url)\n",
    "    for img in imgs:\n",
    "        download(img, path)"
   ]
  },
  {
   "cell_type": "code",
   "execution_count": 20,
   "id": "5f341a5c",
   "metadata": {},
   "outputs": [
    {
     "name": "stderr",
     "output_type": "stream",
     "text": [
      "Extracting images: 100%|██████████████████████████████████████████████████████████████████████| 22/22 [00:00<00:00, 52608.15it/s]\n",
      "Downloadingyandex-images/i: 0.00B [00:00, ?B/s]\n",
      "Downloadingyandex-images/i: 0.00B [00:00, ?B/s]\n",
      "Downloadingyandex-images/i: 0.00B [00:00, ?B/s]\n",
      "Downloadingyandex-images/i: 0.00B [00:00, ?B/s]\n",
      "Downloadingyandex-images/i: 0.00B [00:00, ?B/s]\n",
      "Downloadingyandex-images/i: 0.00B [00:00, ?B/s]\n",
      "Downloadingyandex-images/i: 0.00B [00:00, ?B/s]\n",
      "Downloadingyandex-images/i: 0.00B [00:00, ?B/s]\n",
      "Downloadingyandex-images/i: 0.00B [00:00, ?B/s]\n",
      "Downloadingyandex-images/i: 0.00B [00:00, ?B/s]\n",
      "Downloadingyandex-images/i: 0.00B [00:00, ?B/s]\n",
      "Downloadingyandex-images/i: 0.00B [00:00, ?B/s]\n",
      "Downloadingyandex-images/i: 0.00B [00:00, ?B/s]\n",
      "Downloadingyandex-images/i: 0.00B [00:00, ?B/s]\n",
      "Downloadingyandex-images/i: 0.00B [00:00, ?B/s]\n",
      "Downloadingyandex-images/i: 0.00B [00:00, ?B/s]\n",
      "Downloadingyandex-images/i: 0.00B [00:00, ?B/s]\n",
      "Downloadingyandex-images/i: 0.00B [00:00, ?B/s]\n",
      "Downloadingyandex-images/i: 0.00B [00:00, ?B/s]\n",
      "Downloadingyandex-images/i: 0.00B [00:00, ?B/s]\n",
      "Downloadingyandex-images/722889: 100%|████████████████████████████████████████████████████████| 43.0/43.0 [00:00<00:00, 11.5kB/s]\n"
     ]
    }
   ],
   "source": [
    "main(\"https://unsplash.com/\", \"yandex-images\")"
   ]
  },
  {
   "cell_type": "code",
   "execution_count": null,
   "id": "57b30e1e",
   "metadata": {},
   "outputs": [],
   "source": []
  }
 ],
 "metadata": {
  "kernelspec": {
   "display_name": "Python 3 (ipykernel)",
   "language": "python",
   "name": "python3"
  },
  "language_info": {
   "codemirror_mode": {
    "name": "ipython",
    "version": 3
   },
   "file_extension": ".py",
   "mimetype": "text/x-python",
   "name": "python",
   "nbconvert_exporter": "python",
   "pygments_lexer": "ipython3",
   "version": "3.9.12"
  }
 },
 "nbformat": 4,
 "nbformat_minor": 5
}
