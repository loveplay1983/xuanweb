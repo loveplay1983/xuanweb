{
 "cells": [
  {
   "cell_type": "code",
   "execution_count": 15,
   "id": "95784966",
   "metadata": {},
   "outputs": [],
   "source": [
    "import requests\n",
    "import os\n",
    "from tqdm import tqdm\n",
    "from bs4 import BeautifulSoup as bs\n",
    "from urllib.parse import urljoin, urlparse"
   ]
  },
  {
   "cell_type": "code",
   "execution_count": 16,
   "id": "502073b9",
   "metadata": {},
   "outputs": [],
   "source": [
    "def is_valid(url):\n",
    "    parsed = urlparse(url)\n",
    "    return bool(parsed.netloc) and bool(parsed.scheme)"
   ]
  },
  {
   "cell_type": "code",
   "execution_count": 17,
   "id": "31e45587",
   "metadata": {},
   "outputs": [],
   "source": [
    "def get_all_imgs(url):\n",
    "    soup = bs(requests.get(url).content, \"html.parser\")\n",
    "    urls = []\n",
    "    for img in tqdm(soup.find_all(\"img\"), \"Extracting images\"):\n",
    "        img_url = img.attrs.get(\"src\")\n",
    "        if not img_url:\n",
    "            continue  # skip if img tag contains no src attr\n",
    "        img_url = urljoin(url, img_url)\n",
    "        try:\n",
    "            pos = img_url.index(\"?\")\n",
    "            img_url = img_url[:pos]\n",
    "        except ValueError:\n",
    "            pass\n",
    "        if is_valid(img_url):\n",
    "            urls.append(img_url)\n",
    "    return urls"
   ]
  },
  {
   "cell_type": "code",
   "execution_count": 18,
   "id": "d07f8d2b",
   "metadata": {},
   "outputs": [],
   "source": [
    "def download(url, pathname):\n",
    "    \"\"\"\n",
    "    Download the file with the given URL, \n",
    "    and puts it in the folder followed by the pathname\n",
    "    \"\"\"\n",
    "    if not os.path.isdir(pathname):\n",
    "        os.makedirs(pathname)\n",
    "        \n",
    "    # Download the body of response by chunk, not immediately\n",
    "    response = requests.get(url, stream=True)\n",
    "    \n",
    "    # Get the total file size\n",
    "    file_size = int(response.headers.get(\"Content-Length\", 0))\n",
    "    \n",
    "    # Get the file name\n",
    "    filename = os.path.join(pathname, url.split(\"/\")[-1])\n",
    "    \n",
    "    # Progress bar, changing the unit to bytes instead of iteration,\n",
    "    # Which is default by tqdm\n",
    "    progress = tqdm(response.iter_content(1024), \\\n",
    "                    f\"Downloading{filename}\", \\\n",
    "                    total=file_size, \\\n",
    "                    unit=\"B\", \\\n",
    "                    unit_scale=True, \\\n",
    "                    unit_divisor=1024)\n",
    "    \n",
    "    with open(filename, \"wb\") as f:\n",
    "        for data in progress.iterable:\n",
    "            f.write(data)\n",
    "            progress.update(len(data))"
   ]
  },
  {
   "cell_type": "code",
   "execution_count": 19,
   "id": "c7757e40",
   "metadata": {},
   "outputs": [],
   "source": [
    "def main(url, path):\n",
    "    imgs = get_all_imgs(url)\n",
    "    for img in imgs:\n",
    "        download(img, path)"
   ]
  },
  {
   "cell_type": "code",
   "execution_count": null,
   "id": "3a1a7064",
   "metadata": {},
   "outputs": [
    {
     "name": "stderr",
     "output_type": "stream",
     "text": [
      "Extracting images: 100%|████████████████████████████████████████████████████████████████████| 104/104 [00:00<00:00, 59697.22it/s]\n",
      "Downloadingtest/p: 100%|██████████████████████████████████████████████████████████████████████| 43.0/43.0 [00:00<00:00, 12.2kB/s]\n",
      "Downloadingtest/photo-1660866838212-df428c885827: 100%|█████████████████████████████████████| 19.8M/19.8M [00:08<00:00, 2.37MB/s]\n",
      "Downloadingtest/photo-1662581871665-f299ba8ace07: 100%|█████████████████████████████████████| 14.8M/14.8M [00:05<00:00, 2.84MB/s]\n",
      "Downloadingtest/photo-1662733625046-ac900bb77091: 100%|█████████████████████████████████████| 17.0M/17.0M [00:08<00:00, 2.10MB/s]\n",
      "Downloadingtest/photo-1662729429584-ff91702c2c87: 100%|█████████████████████████████████████| 16.8M/16.8M [00:07<00:00, 2.38MB/s]\n",
      "Downloadingtest/photo-1662725461878-08cf9a790168: 100%|██████████████████████████████████████| 3.05M/3.05M [00:03<00:00, 918kB/s]\n",
      "Downloadingtest/photo-1662735142465-c443674e0390: 100%|██████████████████████████████████████| 1.04M/1.04M [00:02<00:00, 431kB/s]\n",
      "Downloadingtest/photo-1662734724939-962430945ca3: 100%|██████████████████████████████████████| 1.87M/1.87M [00:02<00:00, 784kB/s]\n",
      "Downloadingtest/photo-1659535824233-966cc8de61a5: 100%|██████████████████████████████████████| 6.93M/6.93M [00:09<00:00, 744kB/s]\n",
      "Downloadingtest/photo-1662659415466-bdc20865303c: 100%|█████████████████████████████████████| 9.83M/9.83M [00:04<00:00, 2.11MB/s]\n",
      "Downloadingtest/photo-1661961112951-f2bfd1f253ce: 100%|█████████████████████████████████████| 17.1M/17.1M [00:06<00:00, 2.58MB/s]\n",
      "Downloadingtest/photo-1662752531842-3e27007f85fe: 100%|█████████████████████████████████████| 11.7M/11.7M [00:04<00:00, 2.53MB/s]\n",
      "Downloadingtest/photo-1662758949073-56537345d85d: 100%|█████████████████████████████████████| 3.60M/3.60M [00:02<00:00, 1.58MB/s]\n",
      "Downloadingtest/photo-1662743065111-435a92c58a5d: 100%|█████████████████████████████████████| 7.80M/7.80M [00:04<00:00, 2.00MB/s]\n",
      "Downloadingtest/photo-1662813696894-3bf5b3b9c15b: 100%|█████████████████████████████████████| 1.98M/1.98M [00:01<00:00, 1.04MB/s]\n",
      "Downloadingtest/photo-1662814438857-8886641b3c7c: 100%|█████████████████████████████████████| 11.4M/11.4M [00:04<00:00, 2.83MB/s]\n",
      "Downloadingtest/photo-1661956602153-23384936a1d3: 100%|█████████████████████████████████████| 7.29M/7.29M [00:04<00:00, 1.56MB/s]\n",
      "Downloadingtest/photo-1662810331468-a260f67a936f: 100%|█████████████████████████████████████| 9.99M/9.99M [00:05<00:00, 1.88MB/s]\n",
      "Downloadingtest/photo-1662722246439-9990d39ab4f2: 100%|████████████████████████████████████████| 721k/721k [00:02<00:00, 279kB/s]\n",
      "Downloadingtest/photo-1657664066011-ed54a1be81d2: 100%|██████████████████████████████████████| 7.98M/7.98M [00:11<00:00, 747kB/s]\n",
      "Downloadingtest/photo-1662808115501-af50b8bb86c3: 100%|█████████████████████████████████████| 8.51M/8.51M [00:06<00:00, 1.45MB/s]\n",
      "Downloadingtest/photo-1662715555538-09d0097a6ef2: 100%|█████████████████████████████████████| 5.29M/5.29M [00:02<00:00, 1.85MB/s]\n",
      "Downloadingtest/photo-1662803774446-c3c6afca5d41: 100%|█████████████████████████████████████| 6.04M/6.04M [00:03<00:00, 1.73MB/s]\n",
      "Downloadingtest/photo-1662732765006-59eb9f01d807: 100%|█████████████████████████████████████| 10.5M/10.5M [00:05<00:00, 1.95MB/s]\n",
      "Downloadingtest/photo-1662810144427-db6f49da41a7: 100%|██████████████████████████████████████| 1.39M/1.39M [00:02<00:00, 563kB/s]\n",
      "Downloadingtest/photo-1662754746111-ea991b9bd3d2: 100%|█████████████████████████████████████| 19.0M/19.0M [00:07<00:00, 2.53MB/s]\n",
      "Downloadingtest/photo-1662581871665-f299ba8ace07: 100%|█████████████████████████████████████| 14.8M/14.8M [00:05<00:00, 2.79MB/s]\n",
      "Downloadingtest/photo-1661956602153-23384936a1d3: 100%|█████████████████████████████████████| 7.29M/7.29M [00:03<00:00, 1.98MB/s]\n",
      "Downloadingtest/photo-1662725461878-08cf9a790168: 100%|█████████████████████████████████████| 3.05M/3.05M [00:02<00:00, 1.15MB/s]\n",
      "Downloadingtest/photo-1662735142465-c443674e0390: 100%|██████████████████████████████████████| 1.04M/1.04M [00:02<00:00, 534kB/s]\n",
      "Downloadingtest/photo-1662734724939-962430945ca3: 100%|█████████████████████████████████████| 1.87M/1.87M [00:01<00:00, 1.01MB/s]\n",
      "Downloadingtest/photo-1662732765006-59eb9f01d807: 100%|██████████████████████████████████████| 10.5M/10.5M [00:26<00:00, 423kB/s]\n",
      "Downloadingtest/photo-1661961112951-f2bfd1f253ce: 100%|█████████████████████████████████████| 17.1M/17.1M [00:06<00:00, 2.60MB/s]\n",
      "Downloadingtest/photo-1662754746111-ea991b9bd3d2: 100%|█████████████████████████████████████| 19.0M/19.0M [00:17<00:00, 1.13MB/s]\n",
      "Downloadingtest/photo-1662743065111-435a92c58a5d: 100%|█████████████████████████████████████| 7.80M/7.80M [00:04<00:00, 1.67MB/s]\n",
      "Downloadingtest/photo-1662814438857-8886641b3c7c: 100%|█████████████████████████████████████| 11.4M/11.4M [00:05<00:00, 2.20MB/s]\n",
      "Downloadingtest/photo-1662729429584-ff91702c2c87: 100%|█████████████████████████████████████| 16.8M/16.8M [00:08<00:00, 2.10MB/s]\n",
      "Downloadingtest/photo-1662722246439-9990d39ab4f2: 100%|████████████████████████████████████████| 721k/721k [00:01<00:00, 450kB/s]\n",
      "Downloadingtest/photo-1662808115501-af50b8bb86c3: 100%|█████████████████████████████████████| 8.51M/8.51M [00:04<00:00, 1.81MB/s]\n",
      "Downloadingtest/photo-1662803774446-c3c6afca5d41: 100%|██████████████████████████████████████| 6.04M/6.04M [00:12<00:00, 501kB/s]\n",
      "Downloadingtest/photo-1662810144427-db6f49da41a7: 100%|██████████████████████████████████████| 1.39M/1.39M [00:01<00:00, 817kB/s]\n",
      "Downloadingtest/photo-1662758949073-56537345d85d: 100%|█████████████████████████████████████| 3.60M/3.60M [00:02<00:00, 1.36MB/s]\n",
      "Downloadingtest/photo-1662813696894-3bf5b3b9c15b: 100%|██████████████████████████████████████| 1.98M/1.98M [00:02<00:00, 908kB/s]\n",
      "Downloadingtest/photo-1662733625046-ac900bb77091: 100%|█████████████████████████████████████| 17.0M/17.0M [00:05<00:00, 3.14MB/s]\n",
      "Downloadingtest/photo-1662810331468-a260f67a936f: 100%|█████████████████████████████████████| 9.99M/9.99M [00:04<00:00, 2.36MB/s]\n",
      "Downloadingtest/photo-1657664066011-ed54a1be81d2: 100%|█████████████████████████████████████| 7.98M/7.98M [00:04<00:00, 1.69MB/s]\n",
      "Downloadingtest/photo-1662715555538-09d0097a6ef2: 100%|█████████████████████████████████████| 5.29M/5.29M [00:03<00:00, 1.63MB/s]\n",
      "Downloadingtest/photo-1659535824233-966cc8de61a5: 100%|█████████████████████████████████████| 6.93M/6.93M [00:04<00:00, 1.73MB/s]\n",
      "Downloadingtest/photo-1662659415466-bdc20865303c: 100%|█████████████████████████████████████| 9.83M/9.83M [00:04<00:00, 2.23MB/s]\n",
      "Downloadingtest/photo-1662752531842-3e27007f85fe: 100%|█████████████████████████████████████| 11.7M/11.7M [00:05<00:00, 2.36MB/s]\n",
      "Downloadingtest/profile-1633364056312-0319b9fc4586image: 100%|██████████████████████████████| 24.5k/24.5k [00:00<00:00, 67.1kB/s]\n",
      "Downloadingtest/photo-1662581871665-f299ba8ace07: 100%|█████████████████████████████████████| 14.8M/14.8M [00:06<00:00, 2.25MB/s]\n",
      "Downloadingtest/profile-1660078756938-1f3564bcf935image: 100%|██████████████████████████████| 30.2k/30.2k [00:00<00:00, 86.7kB/s]\n",
      "Downloadingtest/profile-1662743117106-b208d9ec43f0: 100%|██████████████████████████████████████| 159k/159k [00:00<00:00, 185kB/s]\n",
      "Downloadingtest/photo-1662743065111-435a92c58a5d: 100%|█████████████████████████████████████| 7.80M/7.80M [00:03<00:00, 2.19MB/s]\n",
      "Downloadingtest/profile-1596486598730-a0090c88b1d2image: 100%|█████████████████████████████████| 482k/482k [00:02<00:00, 234kB/s]\n",
      "Downloadingtest/photo-1662813696894-3bf5b3b9c15b: 100%|██████████████████████████████████████| 1.98M/1.98M [00:03<00:00, 689kB/s]\n",
      "Downloadingtest/profile-1617539218392-b901b54408eeimage: 100%|███████████████████████████████| 95.4k/95.4k [00:00<00:00, 131kB/s]\n",
      "Downloadingtest/photo-1662814438857-8886641b3c7c: 100%|█████████████████████████████████████| 11.4M/11.4M [00:04<00:00, 2.66MB/s]\n",
      "Downloadingtest/extra-large.jpg: 100%|███████████████████████████████████████████████████████| 7.50k/7.50k [00:00<00:00, 379kB/s]\n",
      "Downloadingtest/photo-1662733625046-ac900bb77091: 100%|█████████████████████████████████████| 17.0M/17.0M [00:06<00:00, 2.79MB/s]\n",
      "Downloadingtest/profile-1609545740442-928866556c38image: 100%|███████████████████████████████| 30.1k/30.1k [00:00<00:00, 138kB/s]\n"
     ]
    },
    {
     "name": "stderr",
     "output_type": "stream",
     "text": [
      "Downloadingtest/photo-1661956602153-23384936a1d3: 100%|█████████████████████████████████████| 7.29M/7.29M [00:04<00:00, 1.87MB/s]\n",
      "Downloadingtest/profile-fb-1525756603-79e579036b2d.jpg: 100%|███████████████████████████████| 41.5k/41.5k [00:00<00:00, 72.4kB/s]\n",
      "Downloadingtest/photo-1662729429584-ff91702c2c87: 100%|█████████████████████████████████████| 16.8M/16.8M [00:07<00:00, 2.42MB/s]\n",
      "Downloadingtest/profile-1538664356252-59adf811daa6: 100%|██████████████████████████████████████| 400k/400k [00:01<00:00, 348kB/s]\n",
      "Downloadingtest/photo-1662810331468-a260f67a936f: 100%|█████████████████████████████████████| 9.99M/9.99M [00:05<00:00, 2.08MB/s]\n",
      "Downloadingtest/profile-1662724645903-b5fe2f155627image: 100%|█████████████████████████████████| 744k/744k [00:01<00:00, 407kB/s]\n",
      "Downloadingtest/photo-1662725461878-08cf9a790168: 100%|█████████████████████████████████████| 3.05M/3.05M [00:02<00:00, 1.07MB/s]\n",
      "Downloadingtest/profile-1662280031968-d74d65cd9d71image: 100%|█████████████████████████████████| 915k/915k [00:02<00:00, 351kB/s]\n",
      "Downloadingtest/photo-1662722246439-9990d39ab4f2: 100%|████████████████████████████████████████| 721k/721k [00:02<00:00, 368kB/s]\n",
      "Downloadingtest/profile-1657663575361-5e8d57088720image: 100%|█████████████████████████████████| 378k/378k [00:01<00:00, 343kB/s]\n",
      "Downloadingtest/photo-1657664066011-ed54a1be81d2: 100%|█████████████████████████████████████| 7.98M/7.98M [00:04<00:00, 1.76MB/s]\n",
      "Downloadingtest/profile-1657278030218-f18744a58b20: 100%|███████████████████████████████████| 2.72M/2.72M [00:02<00:00, 1.03MB/s]\n",
      "Downloadingtest/photo-1662735142465-c443674e0390:   0%|                                              | 0.00/1.04M [00:00<?, ?B/s]"
     ]
    }
   ],
   "source": [
    "main(\"https://unsplash.com/\", \"test\")"
   ]
  },
  {
   "cell_type": "code",
   "execution_count": null,
   "id": "fe2c0360",
   "metadata": {},
   "outputs": [],
   "source": []
  }
 ],
 "metadata": {
  "kernelspec": {
   "display_name": "Python 3 (ipykernel)",
   "language": "python",
   "name": "python3"
  },
  "language_info": {
   "codemirror_mode": {
    "name": "ipython",
    "version": 3
   },
   "file_extension": ".py",
   "mimetype": "text/x-python",
   "name": "python",
   "nbconvert_exporter": "python",
   "pygments_lexer": "ipython3",
   "version": "3.9.12"
  }
 },
 "nbformat": 4,
 "nbformat_minor": 5
}
